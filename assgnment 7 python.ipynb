{
 "cells": [
  {
   "cell_type": "markdown",
   "metadata": {},
   "source": [
    "# use the dictionary and make a new dictionary in which keys become values n value become key:"
   ]
  },
  {
   "cell_type": "code",
   "execution_count": 1,
   "metadata": {},
   "outputs": [
    {
     "name": "stdout",
     "output_type": "stream",
     "text": [
      "The expected result: {'FTP': 21, 'SSH': 22, 'Telnet': 23, 'HTTP': 80}\n"
     ]
    }
   ],
   "source": [
    "Port1 = {21 : \"FTP\" , 22 :\"SSH\" , 23 : \"Telnet\" , 80 : \"HTTP\" }\n",
    "Port2 = {value:key for key,value in Port1.items()}\n",
    "print(\"The expected result:\",Port2)"
   ]
  },
  {
   "cell_type": "markdown",
   "metadata": {},
   "source": [
    "# take a list of tuple make a new list which contains sum of num"
   ]
  },
  {
   "cell_type": "code",
   "execution_count": 2,
   "metadata": {},
   "outputs": [
    {
     "name": "stdout",
     "output_type": "stream",
     "text": [
      "[3, 7, 11, 9]\n"
     ]
    }
   ],
   "source": [
    "List1 =[(1,2), (3,4), (5,6),(4,5)]\n",
    "Output =[ sum(s) for s in List1 ]\n",
    "print(Output)"
   ]
  },
  {
   "cell_type": "markdown",
   "metadata": {},
   "source": [
    "# take a list which contain tuple n lists ,make the elements of inner list n tuple to outer list"
   ]
  },
  {
   "cell_type": "code",
   "execution_count": 3,
   "metadata": {},
   "outputs": [
    {
     "name": "stdout",
     "output_type": "stream",
     "text": [
      "[1, 2, 3, 1, 2, 'a', 'hit', 'less']\n"
     ]
    }
   ],
   "source": [
    "List2 = [(1,2,3),[1,2],['a','hit','less']]\n",
    "List3= []\n",
    "[List3.extend(i) for i in List2 ]\n",
    "print(List3)\n"
   ]
  },
  {
   "cell_type": "code",
   "execution_count": null,
   "metadata": {},
   "outputs": [],
   "source": []
  }
 ],
 "metadata": {
  "kernelspec": {
   "display_name": "Python 3",
   "language": "python",
   "name": "python3"
  },
  "language_info": {
   "codemirror_mode": {
    "name": "ipython",
    "version": 3
   },
   "file_extension": ".py",
   "mimetype": "text/x-python",
   "name": "python",
   "nbconvert_exporter": "python",
   "pygments_lexer": "ipython3",
   "version": "3.7.6"
  }
 },
 "nbformat": 4,
 "nbformat_minor": 4
}
