{
 "cells": [
  {
   "cell_type": "markdown",
   "metadata": {},
   "source": [
    "# program for sum of n numbers with the help of while loop"
   ]
  },
  {
   "cell_type": "code",
   "execution_count": null,
   "metadata": {},
   "outputs": [],
   "source": []
  },
  {
   "cell_type": "code",
   "execution_count": 14,
   "metadata": {},
   "outputs": [
    {
     "name": "stdout",
     "output_type": "stream",
     "text": [
      "enter the num6\n",
      "the sum is 21\n"
     ]
    }
   ],
   "source": [
    "n=int(input(\"enter the num\"))\n",
    "if n<0:\n",
    "    print(\"enter positive num\")\n",
    "else:\n",
    "    sum=0\n",
    "    while(n>0):\n",
    "        sum=sum+n\n",
    "        n-=1\n",
    "    print(\"the sum is\",sum)"
   ]
  },
  {
   "cell_type": "markdown",
   "metadata": {},
   "source": [
    "# program to identify a integer number wheather it is a prime num or not\n"
   ]
  },
  {
   "cell_type": "code",
   "execution_count": 64,
   "metadata": {},
   "outputs": [
    {
     "name": "stdout",
     "output_type": "stream",
     "text": [
      "29  is a prime num \n"
     ]
    }
   ],
   "source": [
    "n=29\n",
    "if n>1:\n",
    "    for i in range(2,n):\n",
    "        if (n%i)==0:\n",
    "            print(n,\"is a not prime num\")\n",
    "            break\n",
    "    else:\n",
    "         print(n,\" is a prime num \")\n",
    "else:\n",
    "    print(n,\"is not a prime num\")\n",
    "      \n",
    "            \n",
    "            \n",
    "    \n"
   ]
  },
  {
   "cell_type": "code",
   "execution_count": null,
   "metadata": {},
   "outputs": [],
   "source": []
  },
  {
   "cell_type": "code",
   "execution_count": null,
   "metadata": {},
   "outputs": [],
   "source": []
  },
  {
   "cell_type": "code",
   "execution_count": null,
   "metadata": {},
   "outputs": [],
   "source": []
  }
 ],
 "metadata": {
  "kernelspec": {
   "display_name": "Python 3",
   "language": "python",
   "name": "python3"
  },
  "language_info": {
   "codemirror_mode": {
    "name": "ipython",
    "version": 3
   },
   "file_extension": ".py",
   "mimetype": "text/x-python",
   "name": "python",
   "nbconvert_exporter": "python",
   "pygments_lexer": "ipython3",
   "version": "3.7.6"
  }
 },
 "nbformat": 4,
 "nbformat_minor": 4
}
