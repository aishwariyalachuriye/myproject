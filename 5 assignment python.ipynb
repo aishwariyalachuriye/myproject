{
 "cells": [
  {
   "cell_type": "markdown",
   "metadata": {},
   "source": [
    "# sort the given list in increasing order but all 0 should be at right hand side"
   ]
  },
  {
   "cell_type": "code",
   "execution_count": 2,
   "metadata": {},
   "outputs": [
    {
     "name": "stdout",
     "output_type": "stream",
     "text": [
      "[1, 1, 1, 1, 2, 2, 3, 4, 4, 5, 5, 6, 6, 0, 0, 0, 0, 0, 0]\n"
     ]
    }
   ],
   "source": [
    "List = [0,1,2,1,0,4,1,0,5,6,2,0,1,3,0,5,6,0,4]\n",
    "List.sort()\n",
    "c=List.count(0)\n",
    "print(List[c:]+List[:c])"
   ]
  },
  {
   "cell_type": "markdown",
   "metadata": {},
   "source": [
    "# merge the 2 sorted list"
   ]
  },
  {
   "cell_type": "code",
   "execution_count": 3,
   "metadata": {},
   "outputs": [
    {
     "name": "stdout",
     "output_type": "stream",
     "text": [
      "[1, 2, 3, 4, 5, 6, 7, 8, 9, 10]\n"
     ]
    }
   ],
   "source": [
    "list1=[1,5,3,2,4]\n",
    "list2=[7,10,8,6,9]\n",
    "list3=list1+list2\n",
    "list4=[]\n",
    "for num in range(min(list3),max(list3)+1):\n",
    "    if num in list3:\n",
    "        list4.append(num)\n",
    "print(list4)"
   ]
  },
  {
   "cell_type": "code",
   "execution_count": null,
   "metadata": {},
   "outputs": [],
   "source": []
  }
 ],
 "metadata": {
  "kernelspec": {
   "display_name": "Python 3",
   "language": "python",
   "name": "python3"
  },
  "language_info": {
   "codemirror_mode": {
    "name": "ipython",
    "version": 3
   },
   "file_extension": ".py",
   "mimetype": "text/x-python",
   "name": "python",
   "nbconvert_exporter": "python",
   "pygments_lexer": "ipython3",
   "version": "3.7.6"
  }
 },
 "nbformat": 4,
 "nbformat_minor": 4
}
